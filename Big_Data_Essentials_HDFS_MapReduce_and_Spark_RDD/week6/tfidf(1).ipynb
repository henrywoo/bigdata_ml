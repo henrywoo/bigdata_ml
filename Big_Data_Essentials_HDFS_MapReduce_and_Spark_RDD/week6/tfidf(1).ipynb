{
 "cells": [
  {
   "cell_type": "code",
   "execution_count": 12,
   "metadata": {},
   "outputs": [
    {
     "name": "stdout",
     "output_type": "stream",
     "text": [
      "Overwriting m.py\n"
     ]
    }
   ],
   "source": [
    "%%writefile m.py\n",
    "\n",
    "import sys\n",
    "import re\n",
    "\n",
    "reload(sys)\n",
    "sys.setdefaultencoding('utf-8')  # required to convert to unicode\n",
    "\n",
    "_term='labor'\n",
    "_article_id='12'\n",
    "\n",
    "path = 'stop_words_en.txt'\n",
    "with open(path) as f:\n",
    "    stop_words = set(f.read().split())\n",
    "\n",
    "\n",
    "for line in sys.stdin:\n",
    "    try:\n",
    "        article_id, text = unicode(line.strip()).split('\\t', 1)\n",
    "        text = text.lower()\n",
    "    except ValueError as e:\n",
    "        continue\n",
    "\n",
    "    words = re.split(\"\\W*\\s+\\W*\", text, flags=re.UNICODE)\n",
    "    if _term in words:\n",
    "        print >> sys.stderr, \"reporter:counter:Wiki stats,Valid docs,%d\" % 1\n",
    "    if article_id != _article_id:\n",
    "        continue\n",
    "    # Your code for mapper here.\n",
    "    for word in words:\n",
    "        if word in stop_words:\n",
    "            continue\n",
    "        print >> sys.stderr, \"reporter:counter:Wiki stats,Total words,%d\" % 1\n",
    "        if word == _term:\n",
    "            print >> sys.stderr, \"reporter:counter:Wiki stats,Target word,%d\" % 1"
   ]
  },
  {
   "cell_type": "code",
   "execution_count": 15,
   "metadata": {},
   "outputs": [
    {
     "name": "stdout",
     "output_type": "stream",
     "text": [
      "Overwriting p.py\n"
     ]
    }
   ],
   "source": [
    "%%writefile p.py\n",
    "\n",
    "import sys, re, math\n",
    "\n",
    "def g():\n",
    "    Nt, N, Dt = 0, 1, 1\n",
    "    for line in sys.stdin:\n",
    "        if \"Target word=\" in line:\n",
    "            r=re.match(\"\\s+{0}=(\\d+)\".format(\"Target word\"), line)\n",
    "            if r is not None:\n",
    "                Nt=int(r.group(1))\n",
    "        if \"Total words=\" in line:\n",
    "            r=re.match(\"\\s+{0}=(\\d+)\".format(\"Total words\"), line)\n",
    "            if r is not None:\n",
    "                N=int(r.group(1))\n",
    "        if \"Valid docs=\" in line:\n",
    "            r=re.match(\"\\s+{0}=(\\d+)\".format(\"Valid docs\"), line)\n",
    "            if r is not None:\n",
    "                Dt=int(r.group(1))\n",
    "    return (1/math.log(1. + Dt)) * Nt / N\n",
    "\n",
    "if __name__ == '__main__':\n",
    "    print(g())"
   ]
  },
  {
   "cell_type": "code",
   "execution_count": 18,
   "metadata": {},
   "outputs": [
    {
     "name": "stdout",
     "output_type": "stream",
     "text": [
      "Writing r.py\n"
     ]
    }
   ],
   "source": [
    "%%writefile r.py\n",
    "import sys\n",
    "\n",
    "current_key = None\n",
    "word_sum = 0\n",
    "\n",
    "_term='labor'\n",
    "\n",
    "path = 'stop_words_en.txt'\n",
    "with open(path) as f:\n",
    "    stop_words = set(f.read().split())\n",
    "\n",
    "for line in sys.stdin:\n",
    "    try:\n",
    "        key, count = line.strip().split('\\t', 1)\n",
    "        if key != _term:\n",
    "            continue\n",
    "        count = int(count)\n",
    "    except ValueError as e:\n",
    "        continue\n",
    "    if current_key != key:\n",
    "        if current_key:\n",
    "            print \"%s\\t%d\" % (current_key, word_sum)\n",
    "        word_sum = 0\n",
    "        current_key = key\n",
    "    word_sum += count\n",
    "\n",
    "if current_key:\n",
    "    print \"%s\\t%d\" % (current_key, word_sum)\n"
   ]
  },
  {
   "cell_type": "code",
   "execution_count": 19,
   "metadata": {},
   "outputs": [
    {
     "name": "stdout",
     "output_type": "stream",
     "text": [
      "0.000350468962109862\n"
     ]
    }
   ],
   "source": [
    "%%bash\n",
    "\n",
    "hdfs dfs -rm -r -skipTrash tfidf_output > /dev/null\n",
    "\n",
    "yarn jar \\\n",
    "/opt/cloudera/parcels/CDH/lib/hadoop-mapreduce/hadoop-streaming.jar \\\n",
    "    -D mapred.jab.name=\"TFIDF\" \\\n",
    "    -D mapreduce.job.reduces=1 \\\n",
    "    -files m.py,r.py,/datasets/stop_words_en.txt \\\n",
    "    -mapper \"python m.py\" \\\n",
    "    -reducer \"python r.py\" \\\n",
    "    -input /data/wiki/en_articles_part \\\n",
    "    -output tfidf_output > /dev/null 2>stderr_logs.txt\n",
    "    \n",
    "cat stderr_logs.txt | python p.py\n"
   ]
  },
  {
   "cell_type": "code",
   "execution_count": null,
   "metadata": {},
   "outputs": [],
   "source": []
  }
 ],
 "metadata": {
  "kernelspec": {
   "display_name": "Python 2",
   "language": "python",
   "name": "python2"
  },
  "language_info": {
   "codemirror_mode": {
    "name": "ipython",
    "version": 2
   },
   "file_extension": ".py",
   "mimetype": "text/x-python",
   "name": "python",
   "nbconvert_exporter": "python",
   "pygments_lexer": "ipython2",
   "version": "2.7.12"
  }
 },
 "nbformat": 4,
 "nbformat_minor": 2
}
