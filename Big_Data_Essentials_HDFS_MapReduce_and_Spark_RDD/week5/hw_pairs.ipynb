{
 "cells": [
  {
   "cell_type": "code",
   "execution_count": 1,
   "metadata": {},
   "outputs": [
    {
     "name": "stdout",
     "output_type": "stream",
     "text": [
      "narodnaya_gazeta\t1\n",
      "narodnaya_volya\t9\n"
     ]
    }
   ],
   "source": [
    "from pyspark import SparkConf, SparkContext\n",
    "import re\n",
    "\n",
    "START_WORD='narodnaya'\n",
    "INPUT_FILE=\"/henry/wikipedia.txt\"\n",
    "INPUT_FILE=\"/data/wiki/en_articles_part/articles-part\"\n",
    "\n",
    "sc = SparkContext(conf=SparkConf().setAppName(\"HenryWu\").setMaster(\"local[2]\"))\n",
    "\n",
    "def parse_article(line):\n",
    "    try:\n",
    "        article_id, text = unicode(line.strip()).split('\\t', 1)\n",
    "        words = re.split(\"\\W*\\s+\\W*\", text, flags=re.UNICODE)\n",
    "        return words\n",
    "    except ValueError as e:\n",
    "        return []\n",
    "\n",
    "def process(words, first_word=START_WORD):\n",
    "    pairs = []\n",
    "    for i, word in enumerate(words[:-1]):\n",
    "        if (word == first_word):\n",
    "            pair = '{}_{}'.format(word, words[i+1])\n",
    "            pairs.append((pair, 1))\n",
    "        else:\n",
    "            continue\n",
    "    return pairs\n",
    "\n",
    "\n",
    "wiki = sc.textFile(INPUT_FILE).map(parse_article)\n",
    "wiki_lower = wiki.map(lambda words: [x.lower() for x in words])\n",
    "wiki_pairs = wiki_lower.flatMap(lambda x: process(x))\n",
    "wiki_pairs = wiki_pairs.filter(lambda x: x != [])\n",
    "wiki_red = wiki_pairs.reduceByKey(lambda a, b: a + b, numPartitions=8)\n",
    "wiki_red_sorted = wiki_red.sortByKey()\n",
    "result = wiki_red_sorted.collect()\n",
    "for pair, cnt in result:\n",
    "    print pair + \"\\t\" + str(cnt)\n",
    "\n",
    "sc.stop()\n"
   ]
  },
  {
   "cell_type": "code",
   "execution_count": null,
   "metadata": {},
   "outputs": [],
   "source": []
  }
 ],
 "metadata": {
  "kernelspec": {
   "display_name": "Python 2",
   "language": "python",
   "name": "python2"
  },
  "language_info": {
   "codemirror_mode": {
    "name": "ipython",
    "version": 2
   },
   "file_extension": ".py",
   "mimetype": "text/x-python",
   "name": "python",
   "nbconvert_exporter": "python",
   "pygments_lexer": "ipython2",
   "version": "2.7.12"
  }
 },
 "nbformat": 4,
 "nbformat_minor": 2
}
